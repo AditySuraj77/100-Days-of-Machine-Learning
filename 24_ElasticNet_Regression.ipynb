{
 "cells": [
  {
   "cell_type": "code",
   "execution_count": 5,
   "id": "b86991e8-6348-4dc4-b82e-55fbdd2cf724",
   "metadata": {},
   "outputs": [],
   "source": [
    "from sklearn.datasets import make_regression\n",
    "from sklearn.linear_model import LinearRegression,Lasso,Ridge,ElasticNet\n",
    "from sklearn.model_selection import train_test_split\n",
    "from sklearn.metrics import r2_score"
   ]
  },
  {
   "cell_type": "code",
   "execution_count": 2,
   "id": "db2cbb2f-e288-4abb-8752-d9cb6559a9ee",
   "metadata": {},
   "outputs": [],
   "source": [
    "X,y = make_regression(n_samples=100,n_features=1,n_informative=1,n_targets=1,noise=20)"
   ]
  },
  {
   "cell_type": "code",
   "execution_count": 4,
   "id": "bb28c780-7fae-4697-b621-2e7a554b7063",
   "metadata": {},
   "outputs": [],
   "source": [
    "X_train,X_test,y_train,y_test = train_test_split(X,y,test_size=0.1,random_state=4)"
   ]
  },
  {
   "cell_type": "markdown",
   "id": "203bbcc8-65e7-4c25-964d-ee3d8bff1b2a",
   "metadata": {},
   "source": [
    "# Linear Regression"
   ]
  },
  {
   "cell_type": "code",
   "execution_count": 10,
   "id": "4d51481c-e421-4ff1-8a08-04ed740ead1c",
   "metadata": {},
   "outputs": [
    {
     "name": "stdout",
     "output_type": "stream",
     "text": [
      "0.6285322872111028\n"
     ]
    }
   ],
   "source": [
    "lr= LinearRegression()\n",
    "lr.fit(X_train,y_train)\n",
    "ypred = lr.predict(X_test)\n",
    "print(r2_score(y_test,ypred))"
   ]
  },
  {
   "cell_type": "markdown",
   "id": "40509521-22ce-47b1-bea4-dd46e4ebfd50",
   "metadata": {},
   "source": [
    "# Ridge"
   ]
  },
  {
   "cell_type": "code",
   "execution_count": 17,
   "id": "433dcd85-f644-4b3e-a3ea-bb1ca2b73828",
   "metadata": {},
   "outputs": [
    {
     "name": "stdout",
     "output_type": "stream",
     "text": [
      "0.6284635968363568\n"
     ]
    }
   ],
   "source": [
    "ridge= Ridge(alpha=0.1)\n",
    "ridge.fit(X_train,y_train)\n",
    "ypred = ridge.predict(X_test)\n",
    "print(r2_score(y_test,ypred))"
   ]
  },
  {
   "cell_type": "markdown",
   "id": "ac0a140f-89c4-4f6c-9a00-3a2cec8312a2",
   "metadata": {},
   "source": [
    "# Lasso"
   ]
  },
  {
   "cell_type": "code",
   "execution_count": 18,
   "id": "e5299924-0023-482d-b7ce-cc212b865d24",
   "metadata": {},
   "outputs": [
    {
     "name": "stdout",
     "output_type": "stream",
     "text": [
      "0.6283559403920136\n"
     ]
    }
   ],
   "source": [
    "ls= Lasso(alpha=0.1)\n",
    "ls.fit(X_train,y_train)\n",
    "ypred = ls.predict(X_test)\n",
    "print(r2_score(y_test,ypred))"
   ]
  },
  {
   "cell_type": "markdown",
   "id": "6aa926d9-1e67-4d57-8777-c22a4c3f1f4c",
   "metadata": {},
   "source": [
    "# ElasticNet"
   ]
  },
  {
   "cell_type": "code",
   "execution_count": 32,
   "id": "9a22270b-146e-4709-a92c-49cbe7082caf",
   "metadata": {},
   "outputs": [
    {
     "name": "stdout",
     "output_type": "stream",
     "text": [
      "0.6238996973695572\n"
     ]
    }
   ],
   "source": [
    "els= ElasticNet(alpha=0.1,l1_ratio=0.5)\n",
    "els.fit(X_train,y_train)\n",
    "ypred = els.predict(X_test)\n",
    "print(r2_score(y_test,ypred))"
   ]
  },
  {
   "cell_type": "code",
   "execution_count": null,
   "id": "2e9fa81e-2187-4bf4-b5db-e6dbe9fc4a10",
   "metadata": {},
   "outputs": [],
   "source": []
  },
  {
   "cell_type": "code",
   "execution_count": null,
   "id": "7b229530-eba7-48ca-a7f0-953821e15017",
   "metadata": {},
   "outputs": [],
   "source": []
  }
 ],
 "metadata": {
  "kernelspec": {
   "display_name": "Python 3 (ipykernel)",
   "language": "python",
   "name": "python3"
  },
  "language_info": {
   "codemirror_mode": {
    "name": "ipython",
    "version": 3
   },
   "file_extension": ".py",
   "mimetype": "text/x-python",
   "name": "python",
   "nbconvert_exporter": "python",
   "pygments_lexer": "ipython3",
   "version": "3.11.9"
  }
 },
 "nbformat": 4,
 "nbformat_minor": 5
}
