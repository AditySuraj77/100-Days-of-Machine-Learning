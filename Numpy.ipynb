{
 "cells": [
  {
   "cell_type": "code",
   "execution_count": 1,
   "id": "79f28749-0b97-44b8-9e4b-90b66a0caadd",
   "metadata": {},
   "outputs": [],
   "source": [
    "import numpy as np"
   ]
  },
  {
   "cell_type": "markdown",
   "id": "660a21f4-7c1d-4d24-91ac-77572ba825e3",
   "metadata": {},
   "source": [
    "# Creating Numpy Array"
   ]
  },
  {
   "cell_type": "code",
   "execution_count": 2,
   "id": "0ee73440-971f-47c9-9e06-3a5a18c24ac9",
   "metadata": {},
   "outputs": [],
   "source": [
    "arr1 = np.array([1,2,3,4,5])"
   ]
  },
  {
   "cell_type": "code",
   "execution_count": 3,
   "id": "da14afde-0509-4d34-a698-e504feebfa8f",
   "metadata": {},
   "outputs": [
    {
     "name": "stdout",
     "output_type": "stream",
     "text": [
      "[1 2 3 4 5]\n",
      "<class 'numpy.ndarray'>\n"
     ]
    }
   ],
   "source": [
    "print(arr1)\n",
    "print(type(arr1))"
   ]
  },
  {
   "cell_type": "code",
   "execution_count": 4,
   "id": "07bd145a-43d0-41fa-adff-64101950aa71",
   "metadata": {},
   "outputs": [],
   "source": [
    "arr2= np.array([[1,2,3,4,5],[5,4,3,2,1]])"
   ]
  },
  {
   "cell_type": "code",
   "execution_count": 5,
   "id": "bcbb9951-2ffe-451e-a1d3-d5c2c6a28df4",
   "metadata": {},
   "outputs": [
    {
     "name": "stdout",
     "output_type": "stream",
     "text": [
      "[[1 2 3 4 5]\n",
      " [5 4 3 2 1]]\n",
      "<class 'numpy.ndarray'>\n"
     ]
    }
   ],
   "source": [
    "print(arr2)\n",
    "print(type(arr2))"
   ]
  },
  {
   "cell_type": "code",
   "execution_count": 15,
   "id": "3c327bc6-7f0c-4d70-9ad5-689e172b9edc",
   "metadata": {},
   "outputs": [
    {
     "name": "stdout",
     "output_type": "stream",
     "text": [
      "[[1. 1. 1. 1. 1.]\n",
      " [1. 1. 1. 1. 1.]\n",
      " [1. 1. 1. 1. 1.]\n",
      " [1. 1. 1. 1. 1.]\n",
      " [1. 1. 1. 1. 1.]]\n"
     ]
    }
   ],
   "source": [
    "arr3 = np.ones((5,5))\n",
    "print(arr3)"
   ]
  },
  {
   "cell_type": "code",
   "execution_count": 17,
   "id": "b52eacc7-c62c-4dd4-8d18-ea613a9066db",
   "metadata": {},
   "outputs": [
    {
     "name": "stdout",
     "output_type": "stream",
     "text": [
      "[[0. 0. 0. 0.]\n",
      " [0. 0. 0. 0.]\n",
      " [0. 0. 0. 0.]\n",
      " [0. 0. 0. 0.]]\n"
     ]
    }
   ],
   "source": [
    "arr4 =  np.zeros((4,4))\n",
    "print(arr4)"
   ]
  },
  {
   "cell_type": "code",
   "execution_count": 19,
   "id": "37bb11c8-0174-4e71-9354-c7ed3e4b1f7e",
   "metadata": {},
   "outputs": [
    {
     "data": {
      "text/plain": [
       "array([[1., 0., 0., 0., 0.],\n",
       "       [0., 1., 0., 0., 0.],\n",
       "       [0., 0., 1., 0., 0.],\n",
       "       [0., 0., 0., 1., 0.],\n",
       "       [0., 0., 0., 0., 1.]])"
      ]
     },
     "execution_count": 19,
     "metadata": {},
     "output_type": "execute_result"
    }
   ],
   "source": [
    "arr5 = np.identity(5)\n",
    "arr5"
   ]
  },
  {
   "cell_type": "code",
   "execution_count": 24,
   "id": "09e94ed2-a58d-456c-a623-07cb9357d1af",
   "metadata": {},
   "outputs": [
    {
     "data": {
      "text/plain": [
       "array([0, 1, 2, 3, 4, 5, 6, 7, 8, 9])"
      ]
     },
     "execution_count": 24,
     "metadata": {},
     "output_type": "execute_result"
    }
   ],
   "source": [
    "arr6 = np.arange(10)\n",
    "arr6"
   ]
  },
  {
   "cell_type": "code",
   "execution_count": 23,
   "id": "fa967491-f1e7-42ad-8731-a859b940811f",
   "metadata": {},
   "outputs": [
    {
     "data": {
      "text/plain": [
       "array([ 0,  2,  4,  6,  8, 10, 12, 14, 16, 18])"
      ]
     },
     "execution_count": 23,
     "metadata": {},
     "output_type": "execute_result"
    }
   ],
   "source": [
    "arr6 = np.arange(0,20,2)\n",
    "arr6"
   ]
  },
  {
   "cell_type": "code",
   "execution_count": 90,
   "id": "d72bb833-ad96-489d-9e63-93dbb41442ee",
   "metadata": {},
   "outputs": [
    {
     "data": {
      "text/plain": [
       "array([-1.        , -0.95918367, -0.91836735, -0.87755102, -0.83673469,\n",
       "       -0.79591837, -0.75510204, -0.71428571, -0.67346939, -0.63265306,\n",
       "       -0.59183673, -0.55102041, -0.51020408, -0.46938776, -0.42857143,\n",
       "       -0.3877551 , -0.34693878, -0.30612245, -0.26530612, -0.2244898 ,\n",
       "       -0.18367347, -0.14285714, -0.10204082, -0.06122449, -0.02040816,\n",
       "        0.02040816,  0.06122449,  0.10204082,  0.14285714,  0.18367347,\n",
       "        0.2244898 ,  0.26530612,  0.30612245,  0.34693878,  0.3877551 ,\n",
       "        0.42857143,  0.46938776,  0.51020408,  0.55102041,  0.59183673,\n",
       "        0.63265306,  0.67346939,  0.71428571,  0.75510204,  0.79591837,\n",
       "        0.83673469,  0.87755102,  0.91836735,  0.95918367,  1.        ])"
      ]
     },
     "execution_count": 90,
     "metadata": {},
     "output_type": "execute_result"
    }
   ],
   "source": [
    "arr7 = np.linspace(-1,1,50)\n",
    "arr7"
   ]
  },
  {
   "cell_type": "code",
   "execution_count": 28,
   "id": "21d0062c-3ace-4a07-a4e4-f67f0e203dde",
   "metadata": {},
   "outputs": [],
   "source": [
    "arr8 = arr7.copy()"
   ]
  },
  {
   "cell_type": "code",
   "execution_count": 29,
   "id": "e6bd899a-5719-40a9-9cb2-c16060a3e983",
   "metadata": {},
   "outputs": [
    {
     "data": {
      "text/plain": [
       "array([10.        , 14.44444444, 18.88888889, 23.33333333, 27.77777778,\n",
       "       32.22222222, 36.66666667, 41.11111111, 45.55555556, 50.        ])"
      ]
     },
     "execution_count": 29,
     "metadata": {},
     "output_type": "execute_result"
    }
   ],
   "source": [
    "arr8"
   ]
  },
  {
   "cell_type": "code",
   "execution_count": 30,
   "id": "6f1b9092-ed1b-4230-baf9-b77b42822f52",
   "metadata": {},
   "outputs": [
    {
     "data": {
      "text/plain": [
       "(5,)"
      ]
     },
     "execution_count": 30,
     "metadata": {},
     "output_type": "execute_result"
    }
   ],
   "source": [
    "arr1.shape"
   ]
  },
  {
   "cell_type": "code",
   "execution_count": 31,
   "id": "1eaa8372-bed7-4ce0-9487-00c04d7b8ac6",
   "metadata": {},
   "outputs": [
    {
     "data": {
      "text/plain": [
       "1"
      ]
     },
     "execution_count": 31,
     "metadata": {},
     "output_type": "execute_result"
    }
   ],
   "source": [
    "arr1.ndim"
   ]
  },
  {
   "cell_type": "code",
   "execution_count": 32,
   "id": "f929fc5e-f524-41ae-913c-c6a720aecf99",
   "metadata": {},
   "outputs": [
    {
     "data": {
      "text/plain": [
       "4"
      ]
     },
     "execution_count": 32,
     "metadata": {},
     "output_type": "execute_result"
    }
   ],
   "source": [
    "arr1.itemsize"
   ]
  },
  {
   "cell_type": "code",
   "execution_count": 33,
   "id": "a56cbbc4-9fd8-444a-b679-9f7a35ed7f5d",
   "metadata": {},
   "outputs": [
    {
     "data": {
      "text/plain": [
       "dtype('int32')"
      ]
     },
     "execution_count": 33,
     "metadata": {},
     "output_type": "execute_result"
    }
   ],
   "source": [
    "arr1.dtype"
   ]
  },
  {
   "cell_type": "code",
   "execution_count": 36,
   "id": "6f4bb3d0-9daf-4423-b390-d200f3e15748",
   "metadata": {},
   "outputs": [
    {
     "data": {
      "text/plain": [
       "array([1., 2., 3., 4., 5.])"
      ]
     },
     "execution_count": 36,
     "metadata": {},
     "output_type": "execute_result"
    }
   ],
   "source": [
    "arr1.astype('float')"
   ]
  },
  {
   "cell_type": "code",
   "execution_count": 37,
   "id": "e955869c-a4b3-4110-874c-e41b90d4545c",
   "metadata": {},
   "outputs": [
    {
     "data": {
      "text/plain": [
       "dtype('int32')"
      ]
     },
     "execution_count": 37,
     "metadata": {},
     "output_type": "execute_result"
    }
   ],
   "source": [
    "arr1.dtype"
   ]
  },
  {
   "cell_type": "code",
   "execution_count": 43,
   "id": "4eff3072-260a-4a2a-ab5d-c25ae615b1d4",
   "metadata": {},
   "outputs": [],
   "source": [
    "three_dim_arr = np.array([[[1,2],[1,2]]])"
   ]
  },
  {
   "cell_type": "code",
   "execution_count": 44,
   "id": "71275acb-2256-46bb-adb4-45d7dcc0e1d1",
   "metadata": {},
   "outputs": [
    {
     "data": {
      "text/plain": [
       "3"
      ]
     },
     "execution_count": 44,
     "metadata": {},
     "output_type": "execute_result"
    }
   ],
   "source": [
    "three_dim_arr.ndim"
   ]
  },
  {
   "cell_type": "code",
   "execution_count": 45,
   "id": "cd5f76c2-5d56-473b-bd73-5bd2740bdfe5",
   "metadata": {},
   "outputs": [
    {
     "data": {
      "text/plain": [
       "(1, 2, 2)"
      ]
     },
     "execution_count": 45,
     "metadata": {},
     "output_type": "execute_result"
    }
   ],
   "source": [
    "three_dim_arr.shape"
   ]
  },
  {
   "cell_type": "code",
   "execution_count": 46,
   "id": "4918b3b5-9225-413d-a1be-397ee810608e",
   "metadata": {},
   "outputs": [
    {
     "data": {
      "text/plain": [
       "4"
      ]
     },
     "execution_count": 46,
     "metadata": {},
     "output_type": "execute_result"
    }
   ],
   "source": [
    "three_dim_arr.itemsize"
   ]
  },
  {
   "cell_type": "code",
   "execution_count": 47,
   "id": "7395f3de-dd98-4c23-a2fe-61c73a632a3f",
   "metadata": {},
   "outputs": [
    {
     "data": {
      "text/plain": [
       "dtype('int32')"
      ]
     },
     "execution_count": 47,
     "metadata": {},
     "output_type": "execute_result"
    }
   ],
   "source": [
    "three_dim_arr.dtype"
   ]
  },
  {
   "cell_type": "code",
   "execution_count": 50,
   "id": "b13e21e4-c23a-42ef-883c-b5512ea28f6e",
   "metadata": {},
   "outputs": [],
   "source": [
    "arr12 = np.arange(36).reshape(3,12)"
   ]
  },
  {
   "cell_type": "code",
   "execution_count": 51,
   "id": "1788b862-22cc-4a34-b011-44a6db09ced4",
   "metadata": {},
   "outputs": [
    {
     "data": {
      "text/plain": [
       "array([[ 0,  1,  2,  3,  4,  5,  6,  7,  8,  9, 10, 11],\n",
       "       [12, 13, 14, 15, 16, 17, 18, 19, 20, 21, 22, 23],\n",
       "       [24, 25, 26, 27, 28, 29, 30, 31, 32, 33, 34, 35]])"
      ]
     },
     "execution_count": 51,
     "metadata": {},
     "output_type": "execute_result"
    }
   ],
   "source": [
    "arr12"
   ]
  },
  {
   "cell_type": "code",
   "execution_count": 59,
   "id": "f8a549b8-7537-45b5-b779-2b7f642d49e8",
   "metadata": {},
   "outputs": [
    {
     "data": {
      "text/plain": [
       "array([[ 0,  1,  2,  3,  4,  5,  6,  7,  8,  9, 10, 11],\n",
       "       [12, 13, 14, 15, 16, 17, 18, 19, 20, 21, 22, 23]])"
      ]
     },
     "execution_count": 59,
     "metadata": {},
     "output_type": "execute_result"
    }
   ],
   "source": [
    "arr12[0:2]"
   ]
  },
  {
   "cell_type": "code",
   "execution_count": 62,
   "id": "b55df34e-fa96-44a1-97fc-c7945658b2e6",
   "metadata": {},
   "outputs": [
    {
     "data": {
      "text/plain": [
       "array([[ 0,  1,  2,  3],\n",
       "       [12, 13, 14, 15]])"
      ]
     },
     "execution_count": 62,
     "metadata": {},
     "output_type": "execute_result"
    }
   ],
   "source": [
    "arr12[0:2,0:4]"
   ]
  },
  {
   "cell_type": "code",
   "execution_count": 63,
   "id": "819fbcca-4824-4e95-8de6-3a4eb41e80ce",
   "metadata": {},
   "outputs": [
    {
     "name": "stdout",
     "output_type": "stream",
     "text": [
      "[ 0  1  2  3  4  5  6  7  8  9 10 11]\n",
      "[12 13 14 15 16 17 18 19 20 21 22 23]\n",
      "[24 25 26 27 28 29 30 31 32 33 34 35]\n"
     ]
    }
   ],
   "source": [
    "for i in arr12:\n",
    "    print(i)"
   ]
  },
  {
   "cell_type": "code",
   "execution_count": 68,
   "id": "fad61645-8325-4cc6-a456-8bd092778e93",
   "metadata": {},
   "outputs": [
    {
     "name": "stdout",
     "output_type": "stream",
     "text": [
      "0\n",
      "1\n",
      "2\n",
      "3\n",
      "4\n",
      "5\n",
      "6\n",
      "7\n",
      "8\n",
      "9\n",
      "10\n",
      "11\n",
      "12\n",
      "13\n",
      "14\n",
      "15\n",
      "16\n",
      "17\n",
      "18\n",
      "19\n",
      "20\n",
      "21\n",
      "22\n",
      "23\n",
      "24\n",
      "25\n",
      "26\n",
      "27\n",
      "28\n",
      "29\n",
      "30\n",
      "31\n",
      "32\n",
      "33\n",
      "34\n",
      "35\n"
     ]
    }
   ],
   "source": [
    "for i in np.nditer(arr12):\n",
    "    print(i)"
   ]
  },
  {
   "cell_type": "code",
   "execution_count": 69,
   "id": "c729de74-7572-4ddf-8221-edb0ca8010cc",
   "metadata": {},
   "outputs": [
    {
     "data": {
      "text/plain": [
       "array([[ 0,  1,  2,  3,  4,  5,  6,  7,  8,  9, 10, 11],\n",
       "       [12, 13, 14, 15, 16, 17, 18, 19, 20, 21, 22, 23],\n",
       "       [24, 25, 26, 27, 28, 29, 30, 31, 32, 33, 34, 35]])"
      ]
     },
     "execution_count": 69,
     "metadata": {},
     "output_type": "execute_result"
    }
   ],
   "source": [
    "arr12\n"
   ]
  },
  {
   "cell_type": "code",
   "execution_count": 70,
   "id": "8d4cd243-6937-4153-8c55-8d0daf19731d",
   "metadata": {},
   "outputs": [
    {
     "data": {
      "text/plain": [
       "array([ 0,  1,  2,  3,  4,  5,  6,  7,  8,  9, 10, 11, 12, 13, 14, 15, 16,\n",
       "       17, 18, 19, 20, 21, 22, 23, 24, 25, 26, 27, 28, 29, 30, 31, 32, 33,\n",
       "       34, 35])"
      ]
     },
     "execution_count": 70,
     "metadata": {},
     "output_type": "execute_result"
    }
   ],
   "source": [
    "arr12.ravel()"
   ]
  },
  {
   "cell_type": "code",
   "execution_count": 72,
   "id": "91babd8c-7fee-4f07-b17e-649e7c1cdfc8",
   "metadata": {},
   "outputs": [],
   "source": [
    "arraA = np.array([[12,78,98],[9,98,65]])"
   ]
  },
  {
   "cell_type": "code",
   "execution_count": 74,
   "id": "8988e75c-69a7-4b92-9d58-159b58cd94b6",
   "metadata": {},
   "outputs": [],
   "source": [
    "arraB = np.array([[1,8,98],[9,9,6]])"
   ]
  },
  {
   "cell_type": "code",
   "execution_count": 77,
   "id": "3e903955-7cf2-47f0-9935-aa1cd8e8e1b2",
   "metadata": {},
   "outputs": [],
   "source": [
    "a = np.hstack((arraA,arraB))"
   ]
  },
  {
   "cell_type": "code",
   "execution_count": 78,
   "id": "55091577-7d70-4d44-b221-5c4178e90feb",
   "metadata": {},
   "outputs": [
    {
     "data": {
      "text/plain": [
       "array([[12, 78, 98,  1,  8, 98],\n",
       "       [ 9, 98, 65,  9,  9,  6]])"
      ]
     },
     "execution_count": 78,
     "metadata": {},
     "output_type": "execute_result"
    }
   ],
   "source": [
    "a"
   ]
  },
  {
   "cell_type": "code",
   "execution_count": 79,
   "id": "b2c57a83-9479-4592-997e-e00ad68538e6",
   "metadata": {},
   "outputs": [],
   "source": [
    "b = np.vstack((arraA,arraB))"
   ]
  },
  {
   "cell_type": "code",
   "execution_count": 80,
   "id": "34d00463-baee-43e7-8e9f-790ed955abae",
   "metadata": {},
   "outputs": [
    {
     "data": {
      "text/plain": [
       "array([[12, 78, 98],\n",
       "       [ 9, 98, 65],\n",
       "       [ 1,  8, 98],\n",
       "       [ 9,  9,  6]])"
      ]
     },
     "execution_count": 80,
     "metadata": {},
     "output_type": "execute_result"
    }
   ],
   "source": [
    "b"
   ]
  },
  {
   "cell_type": "code",
   "execution_count": 82,
   "id": "00c83547-4325-467e-9b55-108b1d8b5ba6",
   "metadata": {},
   "outputs": [
    {
     "data": {
      "text/plain": [
       "array([[ 0,  1,  2,  3,  4,  5,  6,  7,  8,  9, 10, 11],\n",
       "       [12, 13, 14, 15, 16, 17, 18, 19, 20, 21, 22, 23],\n",
       "       [24, 25, 26, 27, 28, 29, 30, 31, 32, 33, 34, 35]])"
      ]
     },
     "execution_count": 82,
     "metadata": {},
     "output_type": "execute_result"
    }
   ],
   "source": [
    "arr12"
   ]
  },
  {
   "cell_type": "code",
   "execution_count": 85,
   "id": "39712a6d-cad6-4e88-a01a-820dc75b5761",
   "metadata": {},
   "outputs": [],
   "source": [
    "arrT = arr12.transpose()"
   ]
  },
  {
   "cell_type": "code",
   "execution_count": 86,
   "id": "e9c0d861-5051-4229-bb82-d47ea76ed597",
   "metadata": {},
   "outputs": [
    {
     "data": {
      "text/plain": [
       "array([[ 0, 12, 24],\n",
       "       [ 1, 13, 25],\n",
       "       [ 2, 14, 26],\n",
       "       [ 3, 15, 27],\n",
       "       [ 4, 16, 28],\n",
       "       [ 5, 17, 29],\n",
       "       [ 6, 18, 30],\n",
       "       [ 7, 19, 31],\n",
       "       [ 8, 20, 32],\n",
       "       [ 9, 21, 33],\n",
       "       [10, 22, 34],\n",
       "       [11, 23, 35]])"
      ]
     },
     "execution_count": 86,
     "metadata": {},
     "output_type": "execute_result"
    }
   ],
   "source": [
    "arrT"
   ]
  },
  {
   "cell_type": "code",
   "execution_count": 87,
   "id": "8bba77af-847e-4211-85ad-6751636f302c",
   "metadata": {},
   "outputs": [
    {
     "data": {
      "text/plain": [
       "array([[ 0, 12, 24],\n",
       "       [ 5, 17, 29],\n",
       "       [ 8, 20, 32]])"
      ]
     },
     "execution_count": 87,
     "metadata": {},
     "output_type": "execute_result"
    }
   ],
   "source": [
    "arrT[[0,5,8]]# Fancy Indexing"
   ]
  },
  {
   "cell_type": "code",
   "execution_count": null,
   "id": "b1787504-4cae-4160-b5a0-b5cb462e51e3",
   "metadata": {},
   "outputs": [],
   "source": []
  }
 ],
 "metadata": {
  "kernelspec": {
   "display_name": "Python 3 (ipykernel)",
   "language": "python",
   "name": "python3"
  },
  "language_info": {
   "codemirror_mode": {
    "name": "ipython",
    "version": 3
   },
   "file_extension": ".py",
   "mimetype": "text/x-python",
   "name": "python",
   "nbconvert_exporter": "python",
   "pygments_lexer": "ipython3",
   "version": "3.11.9"
  }
 },
 "nbformat": 4,
 "nbformat_minor": 5
}
