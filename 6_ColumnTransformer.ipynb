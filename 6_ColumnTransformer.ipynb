{
 "cells": [
  {
   "cell_type": "code",
   "execution_count": 20,
   "id": "9ad51ccd-258e-4e2b-b795-63ade694c876",
   "metadata": {},
   "outputs": [],
   "source": [
    "from sklearn.compose import ColumnTransformer\n",
    "from sklearn.model_selection import train_test_split\n",
    "from sklearn.impute import SimpleImputer\n",
    "from sklearn.preprocessing import OneHotEncoder,OrdinalEncoder\n",
    "import pandas as pd"
   ]
  },
  {
   "cell_type": "code",
   "execution_count": 21,
   "id": "43dcb347-3062-4ef1-a216-33a2dc92d196",
   "metadata": {},
   "outputs": [],
   "source": [
    "df = pd.read_csv(\"Data/customer.csv\")"
   ]
  },
  {
   "cell_type": "code",
   "execution_count": 40,
   "id": "6b762d34-6224-4fb3-a5eb-f552aca7e24b",
   "metadata": {},
   "outputs": [
    {
     "data": {
      "text/html": [
       "<div>\n",
       "<style scoped>\n",
       "    .dataframe tbody tr th:only-of-type {\n",
       "        vertical-align: middle;\n",
       "    }\n",
       "\n",
       "    .dataframe tbody tr th {\n",
       "        vertical-align: top;\n",
       "    }\n",
       "\n",
       "    .dataframe thead th {\n",
       "        text-align: right;\n",
       "    }\n",
       "</style>\n",
       "<table border=\"1\" class=\"dataframe\">\n",
       "  <thead>\n",
       "    <tr style=\"text-align: right;\">\n",
       "      <th></th>\n",
       "      <th>age</th>\n",
       "      <th>gender</th>\n",
       "      <th>review</th>\n",
       "      <th>education</th>\n",
       "      <th>purchased</th>\n",
       "    </tr>\n",
       "  </thead>\n",
       "  <tbody>\n",
       "    <tr>\n",
       "      <th>0</th>\n",
       "      <td>30</td>\n",
       "      <td>Female</td>\n",
       "      <td>Average</td>\n",
       "      <td>School</td>\n",
       "      <td>No</td>\n",
       "    </tr>\n",
       "    <tr>\n",
       "      <th>1</th>\n",
       "      <td>68</td>\n",
       "      <td>Female</td>\n",
       "      <td>Poor</td>\n",
       "      <td>UG</td>\n",
       "      <td>No</td>\n",
       "    </tr>\n",
       "    <tr>\n",
       "      <th>2</th>\n",
       "      <td>70</td>\n",
       "      <td>Female</td>\n",
       "      <td>Good</td>\n",
       "      <td>PG</td>\n",
       "      <td>No</td>\n",
       "    </tr>\n",
       "    <tr>\n",
       "      <th>3</th>\n",
       "      <td>72</td>\n",
       "      <td>Female</td>\n",
       "      <td>Good</td>\n",
       "      <td>PG</td>\n",
       "      <td>No</td>\n",
       "    </tr>\n",
       "    <tr>\n",
       "      <th>4</th>\n",
       "      <td>16</td>\n",
       "      <td>Female</td>\n",
       "      <td>Average</td>\n",
       "      <td>UG</td>\n",
       "      <td>No</td>\n",
       "    </tr>\n",
       "  </tbody>\n",
       "</table>\n",
       "</div>"
      ],
      "text/plain": [
       "   age  gender   review education purchased\n",
       "0   30  Female  Average    School        No\n",
       "1   68  Female     Poor        UG        No\n",
       "2   70  Female     Good        PG        No\n",
       "3   72  Female     Good        PG        No\n",
       "4   16  Female  Average        UG        No"
      ]
     },
     "execution_count": 40,
     "metadata": {},
     "output_type": "execute_result"
    }
   ],
   "source": [
    "df.head()"
   ]
  },
  {
   "cell_type": "code",
   "execution_count": 41,
   "id": "4afdd852-2063-474b-bb1f-beaf5b4fb9f3",
   "metadata": {},
   "outputs": [
    {
     "data": {
      "text/plain": [
       "age          0\n",
       "gender       0\n",
       "review       0\n",
       "education    0\n",
       "purchased    0\n",
       "dtype: int64"
      ]
     },
     "execution_count": 41,
     "metadata": {},
     "output_type": "execute_result"
    }
   ],
   "source": [
    "df.isnull().sum()"
   ]
  },
  {
   "cell_type": "code",
   "execution_count": 45,
   "id": "4c3d99b4-a103-49b4-ac57-d8ccbd339685",
   "metadata": {},
   "outputs": [
    {
     "name": "stdout",
     "output_type": "stream",
     "text": [
      "review\n",
      "Poor       18\n",
      "Good       18\n",
      "Average    14\n",
      "Name: count, dtype: int64\n",
      "----------------------------------------------------\n",
      "education\n",
      "PG        18\n",
      "School    16\n",
      "UG        16\n",
      "Name: count, dtype: int64\n"
     ]
    }
   ],
   "source": [
    "print(df[\"review\"].value_counts())\n",
    "print(\"----------------------------------------------------\")\n",
    "print(df[\"education\"].value_counts())"
   ]
  },
  {
   "cell_type": "code",
   "execution_count": 23,
   "id": "32e18609-5334-46b8-991b-9369bc0d1214",
   "metadata": {},
   "outputs": [],
   "source": [
    "X_train,X_test,Y_train,Y_test = train_test_split(df.iloc[:,0:4], df.iloc[:,-1:],test_size=0.1)"
   ]
  },
  {
   "cell_type": "code",
   "execution_count": 24,
   "id": "ef56b4f4-d978-4eb9-aedd-a7315e31e513",
   "metadata": {},
   "outputs": [
    {
     "data": {
      "text/html": [
       "<div>\n",
       "<style scoped>\n",
       "    .dataframe tbody tr th:only-of-type {\n",
       "        vertical-align: middle;\n",
       "    }\n",
       "\n",
       "    .dataframe tbody tr th {\n",
       "        vertical-align: top;\n",
       "    }\n",
       "\n",
       "    .dataframe thead th {\n",
       "        text-align: right;\n",
       "    }\n",
       "</style>\n",
       "<table border=\"1\" class=\"dataframe\">\n",
       "  <thead>\n",
       "    <tr style=\"text-align: right;\">\n",
       "      <th></th>\n",
       "      <th>age</th>\n",
       "      <th>gender</th>\n",
       "      <th>review</th>\n",
       "      <th>education</th>\n",
       "    </tr>\n",
       "  </thead>\n",
       "  <tbody>\n",
       "    <tr>\n",
       "      <th>1</th>\n",
       "      <td>68</td>\n",
       "      <td>Female</td>\n",
       "      <td>Poor</td>\n",
       "      <td>UG</td>\n",
       "    </tr>\n",
       "    <tr>\n",
       "      <th>6</th>\n",
       "      <td>18</td>\n",
       "      <td>Male</td>\n",
       "      <td>Good</td>\n",
       "      <td>School</td>\n",
       "    </tr>\n",
       "    <tr>\n",
       "      <th>46</th>\n",
       "      <td>64</td>\n",
       "      <td>Female</td>\n",
       "      <td>Poor</td>\n",
       "      <td>PG</td>\n",
       "    </tr>\n",
       "    <tr>\n",
       "      <th>13</th>\n",
       "      <td>57</td>\n",
       "      <td>Female</td>\n",
       "      <td>Average</td>\n",
       "      <td>School</td>\n",
       "    </tr>\n",
       "    <tr>\n",
       "      <th>22</th>\n",
       "      <td>18</td>\n",
       "      <td>Female</td>\n",
       "      <td>Poor</td>\n",
       "      <td>PG</td>\n",
       "    </tr>\n",
       "  </tbody>\n",
       "</table>\n",
       "</div>"
      ],
      "text/plain": [
       "    age  gender   review education\n",
       "1    68  Female     Poor        UG\n",
       "6    18    Male     Good    School\n",
       "46   64  Female     Poor        PG\n",
       "13   57  Female  Average    School\n",
       "22   18  Female     Poor        PG"
      ]
     },
     "execution_count": 24,
     "metadata": {},
     "output_type": "execute_result"
    }
   ],
   "source": [
    "X_train.head()"
   ]
  },
  {
   "cell_type": "code",
   "execution_count": 30,
   "id": "0c0f1b8d-aca9-4ac0-9035-638b16489917",
   "metadata": {},
   "outputs": [
    {
     "data": {
      "text/plain": [
       "(5, 4)"
      ]
     },
     "execution_count": 30,
     "metadata": {},
     "output_type": "execute_result"
    }
   ],
   "source": [
    "X_test.shape"
   ]
  },
  {
   "cell_type": "markdown",
   "id": "4b545260-e77f-4aaa-a300-26ebf49d23fd",
   "metadata": {},
   "source": [
    "# ColumnsTransformer"
   ]
  },
  {
   "cell_type": "code",
   "execution_count": 32,
   "id": "676a22f7-6fe1-424c-901c-bd71b1284f67",
   "metadata": {},
   "outputs": [],
   "source": [
    "transformers = ColumnTransformer(transformers=[\n",
    "    ('tnf1',OrdinalEncoder(),['review']),\n",
    "    ('tnf2',OrdinalEncoder(categories=[[\"School\",\"UG\",\"PG\"]]),[\"education\"]),\n",
    "    (\"tnf3\",OneHotEncoder(sparse_output=False,drop=\"first\"),[\"gender\"])\n",
    "    ],remainder=\"passthrough\"\n",
    ")"
   ]
  },
  {
   "cell_type": "code",
   "execution_count": 35,
   "id": "34cd90ec-7a64-4a68-8515-48d5a7b140b7",
   "metadata": {},
   "outputs": [
    {
     "data": {
      "text/plain": [
       "array([[ 2.,  1.,  0., 68.],\n",
       "       [ 1.,  0.,  1., 18.],\n",
       "       [ 2.,  2.,  0., 64.],\n",
       "       [ 0.,  0.,  0., 57.],\n",
       "       [ 2.,  2.,  0., 18.],\n",
       "       [ 2.,  2.,  1., 76.],\n",
       "       [ 0.,  2.,  1., 32.],\n",
       "       [ 1.,  0.,  0., 57.],\n",
       "       [ 1.,  2.,  0., 89.],\n",
       "       [ 1.,  1.,  1., 74.],\n",
       "       [ 0.,  1.,  1., 73.],\n",
       "       [ 2.,  2.,  1., 61.],\n",
       "       [ 0.,  1.,  1., 92.],\n",
       "       [ 2.,  0.,  1., 51.],\n",
       "       [ 1.,  1.,  0., 39.],\n",
       "       [ 1.,  0.,  1., 19.],\n",
       "       [ 1.,  1.,  0., 34.],\n",
       "       [ 1.,  1.,  0., 98.],\n",
       "       [ 0.,  2.,  0., 16.],\n",
       "       [ 0.,  0.,  1., 86.],\n",
       "       [ 0.,  0.,  0., 57.],\n",
       "       [ 2.,  1.,  0., 22.],\n",
       "       [ 2.,  2.,  1., 97.],\n",
       "       [ 1.,  0.,  0., 96.],\n",
       "       [ 2.,  2.,  1., 15.],\n",
       "       [ 0.,  1.,  0., 16.],\n",
       "       [ 2.,  0.,  1., 48.],\n",
       "       [ 2.,  1.,  1., 75.],\n",
       "       [ 2.,  0.,  0., 22.],\n",
       "       [ 0.,  1.,  0., 83.],\n",
       "       [ 1.,  1.,  1., 74.],\n",
       "       [ 1.,  2.,  0., 70.],\n",
       "       [ 1.,  1.,  0., 25.],\n",
       "       [ 1.,  2.,  1., 23.],\n",
       "       [ 1.,  2.,  0., 72.],\n",
       "       [ 0.,  1.,  0., 77.],\n",
       "       [ 1.,  2.,  0., 30.],\n",
       "       [ 1.,  0.,  1., 39.],\n",
       "       [ 1.,  0.,  0., 45.],\n",
       "       [ 2.,  0.,  0., 60.],\n",
       "       [ 0.,  2.,  1., 94.],\n",
       "       [ 0.,  0.,  0., 30.],\n",
       "       [ 2.,  0.,  1., 74.],\n",
       "       [ 0.,  0.,  0., 31.],\n",
       "       [ 0.,  1.,  0., 65.]])"
      ]
     },
     "execution_count": 35,
     "metadata": {},
     "output_type": "execute_result"
    }
   ],
   "source": [
    "transformers.fit_transform(X_train)"
   ]
  },
  {
   "cell_type": "code",
   "execution_count": 34,
   "id": "c35b5e6d-7f4f-4e23-ae53-9003d16d41ba",
   "metadata": {},
   "outputs": [
    {
     "data": {
      "text/plain": [
       "array([[ 1.,  2.,  0., 53.],\n",
       "       [ 0.,  2.,  0., 38.],\n",
       "       [ 1.,  2.,  0., 69.],\n",
       "       [ 1.,  2.,  1., 27.],\n",
       "       [ 1.,  1.,  1., 59.]])"
      ]
     },
     "execution_count": 34,
     "metadata": {},
     "output_type": "execute_result"
    }
   ],
   "source": [
    "transformers.fit_transform(X_test)"
   ]
  },
  {
   "cell_type": "code",
   "execution_count": null,
   "id": "3356af4e-6328-43da-83a9-3b8a9717aed2",
   "metadata": {},
   "outputs": [],
   "source": []
  },
  {
   "cell_type": "code",
   "execution_count": null,
   "id": "33fc36b5-578f-4326-8ee6-17c199f21fd2",
   "metadata": {},
   "outputs": [],
   "source": []
  },
  {
   "cell_type": "code",
   "execution_count": null,
   "id": "97d490a7-bbb0-4463-8be1-0d418a98ca8e",
   "metadata": {},
   "outputs": [],
   "source": []
  },
  {
   "cell_type": "code",
   "execution_count": null,
   "id": "528e18f1-99cc-4994-80e8-47f4035d4907",
   "metadata": {},
   "outputs": [],
   "source": []
  },
  {
   "cell_type": "code",
   "execution_count": null,
   "id": "dfa7192c-f6a8-4141-92e7-302da0ac3693",
   "metadata": {},
   "outputs": [],
   "source": []
  },
  {
   "cell_type": "code",
   "execution_count": null,
   "id": "2b799665-095b-4b33-9f93-fc46499a6500",
   "metadata": {},
   "outputs": [],
   "source": []
  },
  {
   "cell_type": "code",
   "execution_count": null,
   "id": "5b8e719a-62ef-46c1-8a2d-c2148b6aa5bf",
   "metadata": {},
   "outputs": [],
   "source": []
  },
  {
   "cell_type": "code",
   "execution_count": null,
   "id": "c5d00ece-e7dc-47df-bc57-c7750023b354",
   "metadata": {},
   "outputs": [],
   "source": []
  }
 ],
 "metadata": {
  "kernelspec": {
   "display_name": "Python 3 (ipykernel)",
   "language": "python",
   "name": "python3"
  },
  "language_info": {
   "codemirror_mode": {
    "name": "ipython",
    "version": 3
   },
   "file_extension": ".py",
   "mimetype": "text/x-python",
   "name": "python",
   "nbconvert_exporter": "python",
   "pygments_lexer": "ipython3",
   "version": "3.11.9"
  }
 },
 "nbformat": 4,
 "nbformat_minor": 5
}
